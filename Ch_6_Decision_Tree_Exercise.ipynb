{
  "nbformat": 4,
  "nbformat_minor": 0,
  "metadata": {
    "colab": {
      "name": "Ch 6 - Decision Tree Exercise .ipynb",
      "provenance": [],
      "collapsed_sections": []
    },
    "kernelspec": {
      "name": "python3",
      "display_name": "Python 3"
    },
    "language_info": {
      "name": "python"
    }
  },
  "cells": [
    {
      "cell_type": "markdown",
      "metadata": {
        "id": "VV_YomIadEcl"
      },
      "source": [
        "# Question  7\n",
        "\n",
        "\n",
        "---\n",
        "\n",
        "## Train and fine-tune a Decision Tree for the moons dataset.\n",
        "\n",
        "1. Generate a moons dataset using make_moons(n_samples=10000, noise=0.4).\n",
        "2. Split it into a training set and a test set using train_test_split().\n",
        "3. Use grid search with cross-validation (with the help of the GridSearchCV class) to find good hyperparameter values for a DecisionTreeClassifier. Hint: try various values for max_leaf_nodes.\n",
        "4. Train it on the full training set using these hyperparameters, and measure your model’s\n",
        "performance on the test set. You should get roughly 85% to 87% accuracy.\n",
        "\n"
      ]
    },
    {
      "cell_type": "markdown",
      "metadata": {
        "id": "myq7N1Wad6z7"
      },
      "source": [
        "Step 1 - Generating dataset \n"
      ]
    },
    {
      "cell_type": "code",
      "metadata": {
        "id": "N-j1EUfEi_dJ"
      },
      "source": [
        "import warnings\n",
        "warnings.filterwarnings(\"ignore\")"
      ],
      "execution_count": 68,
      "outputs": []
    },
    {
      "cell_type": "code",
      "metadata": {
        "id": "2eLSpWgtcr4U"
      },
      "source": [
        "from sklearn.datasets import make_moons\n",
        "X,y = make_moons(n_samples=10000,shuffle=True,noise=0.4)"
      ],
      "execution_count": 69,
      "outputs": []
    },
    {
      "cell_type": "code",
      "metadata": {
        "colab": {
          "base_uri": "https://localhost:8080/"
        },
        "id": "cZcoUU2zeYZt",
        "outputId": "3147024f-0dfb-4d2d-b607-76beac4aac2e"
      },
      "source": [
        "import numpy as np\n",
        "np.unique(y,return_counts=True)"
      ],
      "execution_count": 70,
      "outputs": [
        {
          "output_type": "execute_result",
          "data": {
            "text/plain": [
              "(array([0, 1]), array([5000, 5000]))"
            ]
          },
          "metadata": {
            "tags": []
          },
          "execution_count": 70
        }
      ]
    },
    {
      "cell_type": "markdown",
      "metadata": {
        "id": "ZmJfjqBnfN3S"
      },
      "source": [
        "We can say that dataset is balanced, so it is perfect for decision tree"
      ]
    },
    {
      "cell_type": "markdown",
      "metadata": {
        "id": "mdz2WA9_fUAT"
      },
      "source": [
        "Step 2 - train test split"
      ]
    },
    {
      "cell_type": "code",
      "metadata": {
        "id": "Jk-jmk_xfXm2"
      },
      "source": [
        "from sklearn.model_selection import train_test_split\n",
        "X_train, X_test, y_train, y_test = train_test_split(X, y, test_size=0.33, random_state=42)"
      ],
      "execution_count": 71,
      "outputs": []
    },
    {
      "cell_type": "markdown",
      "metadata": {
        "id": "M9hTa9bAflIL"
      },
      "source": [
        "Step 3 - Finding best hyperparamters value for DT"
      ]
    },
    {
      "cell_type": "code",
      "metadata": {
        "colab": {
          "base_uri": "https://localhost:8080/"
        },
        "id": "qsjJc-VDfkYz",
        "outputId": "a050534b-3116-4bde-cbd2-ad00294b53c3"
      },
      "source": [
        "from sklearn.model_selection import GridSearchCV\n",
        "from sklearn.tree import DecisionTreeClassifier\n",
        "DT = DecisionTreeClassifier()\n",
        "parameters = {'max_leaf_nodes':[1,5,10,20,50]}\n",
        "clf = GridSearchCV(DT,parameters)\n",
        "clf.fit(X_train,y_train)"
      ],
      "execution_count": 72,
      "outputs": [
        {
          "output_type": "execute_result",
          "data": {
            "text/plain": [
              "GridSearchCV(cv=None, error_score=nan,\n",
              "             estimator=DecisionTreeClassifier(ccp_alpha=0.0, class_weight=None,\n",
              "                                              criterion='gini', max_depth=None,\n",
              "                                              max_features=None,\n",
              "                                              max_leaf_nodes=None,\n",
              "                                              min_impurity_decrease=0.0,\n",
              "                                              min_impurity_split=None,\n",
              "                                              min_samples_leaf=1,\n",
              "                                              min_samples_split=2,\n",
              "                                              min_weight_fraction_leaf=0.0,\n",
              "                                              presort='deprecated',\n",
              "                                              random_state=None,\n",
              "                                              splitter='best'),\n",
              "             iid='deprecated', n_jobs=None,\n",
              "             param_grid={'max_leaf_nodes': [1, 5, 10, 20, 50]},\n",
              "             pre_dispatch='2*n_jobs', refit=True, return_train_score=False,\n",
              "             scoring=None, verbose=0)"
            ]
          },
          "metadata": {
            "tags": []
          },
          "execution_count": 72
        }
      ]
    },
    {
      "cell_type": "code",
      "metadata": {
        "colab": {
          "base_uri": "https://localhost:8080/"
        },
        "id": "UWrPFSA1gfn5",
        "outputId": "dbfad472-f319-4610-e563-807f52db07d2"
      },
      "source": [
        "clf.best_estimator_"
      ],
      "execution_count": 73,
      "outputs": [
        {
          "output_type": "execute_result",
          "data": {
            "text/plain": [
              "DecisionTreeClassifier(ccp_alpha=0.0, class_weight=None, criterion='gini',\n",
              "                       max_depth=None, max_features=None, max_leaf_nodes=20,\n",
              "                       min_impurity_decrease=0.0, min_impurity_split=None,\n",
              "                       min_samples_leaf=1, min_samples_split=2,\n",
              "                       min_weight_fraction_leaf=0.0, presort='deprecated',\n",
              "                       random_state=None, splitter='best')"
            ]
          },
          "metadata": {
            "tags": []
          },
          "execution_count": 73
        }
      ]
    },
    {
      "cell_type": "markdown",
      "metadata": {
        "id": "VFLxBY0PhcM7"
      },
      "source": [
        "Hence max_leaf_node = 20 is best Hyperparameter for this problem"
      ]
    },
    {
      "cell_type": "markdown",
      "metadata": {
        "id": "an0UJhhbhh_5"
      },
      "source": [
        "Step 4 - Training model using best hyperparameter and testing model performance"
      ]
    },
    {
      "cell_type": "code",
      "metadata": {
        "colab": {
          "base_uri": "https://localhost:8080/"
        },
        "id": "Izu8E5MyhqIL",
        "outputId": "249ba05a-e406-4e07-9ea3-1ee5bf37b06e"
      },
      "source": [
        "from sklearn.metrics import accuracy_score\n",
        "DT = DecisionTreeClassifier(max_leaf_nodes = 20)\n",
        "DT.fit(X_train,y_train)\n",
        "y_pred = DT.predict(X_test)\n",
        "print(\"The accuracy of the model\",round(accuracy_score(y_test,y_pred),4))"
      ],
      "execution_count": 74,
      "outputs": [
        {
          "output_type": "stream",
          "text": [
            "The accuracy of the model 0.8618\n"
          ],
          "name": "stdout"
        }
      ]
    },
    {
      "cell_type": "markdown",
      "metadata": {
        "id": "5UnZzILTixyR"
      },
      "source": [
        "# Question  8\n",
        "\n",
        "\n",
        "---\n",
        "\n",
        "## Grow a forest.\n",
        "1. Continuing the previous exercise, generate 1,000 subsets of the training set, each containing 100\n",
        "instances selected randomly. Hint: you can use Scikit-Learn’s ShuffleSplit class for this.\n",
        "2. Train one Decision Tree on each subset, using the best hyperparameter values found above.\n",
        "Evaluate these 1,000 Decision Trees on the test set. Since they were trained on smaller sets,\n",
        "these Decision Trees will likely perform worse than the first Decision Tree, achieving only\n",
        "about 80% accuracy.\n",
        "3. Now comes the magic. For each test set instance, generate the predictions of the 1,000 Decision\n",
        "Trees, and keep only the most frequent prediction (you can use SciPy’s mode() function for\n",
        "this). This gives you majority-vote predictions over the test set.\n",
        "4. Evaluate these predictions on the test set: you should obtain a slightly higher accuracy than your\n",
        "first model (about 0.5 to 1.5% higher). Congratulations, you have trained a Random Forest\n",
        "classifier!\n",
        "\n"
      ]
    },
    {
      "cell_type": "markdown",
      "metadata": {
        "id": "cwrvKh2kXtB8"
      },
      "source": [
        "Step 1 - Small subset of Dataset"
      ]
    },
    {
      "cell_type": "code",
      "metadata": {
        "id": "gnWeBy7nXyb_"
      },
      "source": [
        "from sklearn.model_selection import ShuffleSplit\n",
        "split_dataset = ShuffleSplit(n_splits=1000,train_size=100)\n",
        "subset_train_dataset = []\n",
        "for train_indices,test_indices in split_dataset.split(X_train):\n",
        "   subset_train_dataset.append([X_train[train_indices],y_train[train_indices]])"
      ],
      "execution_count": 75,
      "outputs": []
    },
    {
      "cell_type": "markdown",
      "metadata": {
        "id": "MR1DJuMwaCJM"
      },
      "source": [
        "Step 2 - \n",
        "1. Traning 1000 decision tree on train subsets and evulating them on test set"
      ]
    },
    {
      "cell_type": "code",
      "metadata": {
        "id": "nJRYVV_PYjXw"
      },
      "source": [
        "model_list = [0 for i in range(1000)]\n",
        "model_index = 0\n",
        "for dataset in subset_train_dataset:\n",
        "  X_train,y_train = dataset\n",
        "  model_list[model_index] = DecisionTreeClassifier(max_leaf_nodes = 20)\n",
        "  model_list[model_index].fit(X_train,y_train)\n",
        "  model_index +=1"
      ],
      "execution_count": 76,
      "outputs": []
    },
    {
      "cell_type": "code",
      "metadata": {
        "id": "XN8JNg84a6m_"
      },
      "source": [
        "Accuracy_model = []\n",
        "for model in model_list:\n",
        "  y_pred = model.predict(X_test)\n",
        "  Accuracy_model.append(accuracy_score(y_test,y_pred))"
      ],
      "execution_count": 77,
      "outputs": []
    },
    {
      "cell_type": "code",
      "metadata": {
        "colab": {
          "base_uri": "https://localhost:8080/"
        },
        "id": "y_PNNHHdbUlM",
        "outputId": "d6e7950e-ad46-4c42-9cf8-351e15b7858f"
      },
      "source": [
        "print(\"The average accuracy of all the models on the test dataset is {}\".format(round(sum(Accuracy_model)/len(Accuracy_model),4)))"
      ],
      "execution_count": 78,
      "outputs": [
        {
          "output_type": "stream",
          "text": [
            "The average accuracy of all the models on the test dataset is 0.7938\n"
          ],
          "name": "stdout"
        }
      ]
    },
    {
      "cell_type": "markdown",
      "metadata": {
        "id": "hLGTNUoRbiV6"
      },
      "source": [
        "We can see performance is not as good as first model"
      ]
    },
    {
      "cell_type": "markdown",
      "metadata": {
        "id": "AGlpBHv_bmnb"
      },
      "source": [
        "Step 3 - Doing majority vote prediction of all models"
      ]
    },
    {
      "cell_type": "code",
      "metadata": {
        "id": "9dpQt-6Ybwwa"
      },
      "source": [
        "from scipy.stats import mode\n",
        "model_prediction = []\n",
        "for model in model_list:\n",
        "  model_prediction.append(model.predict(X_test))"
      ],
      "execution_count": 79,
      "outputs": []
    },
    {
      "cell_type": "code",
      "metadata": {
        "id": "2jjH192YcXJq"
      },
      "source": [
        "majority_vote = mode(model_prediction)"
      ],
      "execution_count": 80,
      "outputs": []
    },
    {
      "cell_type": "markdown",
      "metadata": {
        "id": "gI8Cc6Dmdzc9"
      },
      "source": [
        "Step 4 - prediction on test set (Random Forest)"
      ]
    },
    {
      "cell_type": "code",
      "metadata": {
        "colab": {
          "base_uri": "https://localhost:8080/"
        },
        "id": "ETFM2jnLcclk",
        "outputId": "5d5a4b78-4a22-44a0-ec2f-3bf86608d93b"
      },
      "source": [
        "print(\"The accuracy of majority vote on the test dataset is {}\".format(round(accuracy_score(y_test,majority_vote[0][0]),4)))"
      ],
      "execution_count": 81,
      "outputs": [
        {
          "output_type": "stream",
          "text": [
            "The accuracy of majority vote on the test dataset is 0.867\n"
          ],
          "name": "stdout"
        }
      ]
    },
    {
      "cell_type": "markdown",
      "metadata": {
        "id": "BHdYWMC_d5oE"
      },
      "source": [
        "Hence we can see that performance of the model is increased"
      ]
    }
  ]
}